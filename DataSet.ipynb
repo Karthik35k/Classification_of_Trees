{
  "nbformat": 4,
  "nbformat_minor": 0,
  "metadata": {
    "colab": {
      "provenance": [],
      "authorship_tag": "ABX9TyNKZeMrh7rMaNpwsErDb56M",
      "include_colab_link": true
    },
    "kernelspec": {
      "name": "python3",
      "display_name": "Python 3"
    },
    "language_info": {
      "name": "python"
    }
  },
  "cells": [
    {
      "cell_type": "markdown",
      "metadata": {
        "id": "view-in-github",
        "colab_type": "text"
      },
      "source": [
        "<a href=\"https://colab.research.google.com/github/Karthik35k/Classification_of_Trees/blob/main/DataSet.ipynb\" target=\"_parent\"><img src=\"https://colab.research.google.com/assets/colab-badge.svg\" alt=\"Open In Colab\"/></a>"
      ]
    },
    {
      "cell_type": "code",
      "execution_count": null,
      "metadata": {
        "colab": {
          "base_uri": "https://localhost:8080/"
        },
        "id": "mFgosIQBaEPH",
        "outputId": "755726ff-1b48-4a4f-e86e-8b68c82c3a90"
      },
      "outputs": [
        {
          "output_type": "stream",
          "name": "stdout",
          "text": [
            "Mounted at /content/drive\n"
          ]
        }
      ],
      "source": [
        "from google.colab import drive\n",
        "drive.mount('/content/drive')"
      ]
    },
    {
      "cell_type": "code",
      "source": [
        "import kagglehub\n",
        "\n",
        "# Download latest version\n",
        "path = kagglehub.dataset_download(\"viditgandhi/tree-species-identification-dataset\")\n",
        "\n",
        "print(\"Path to dataset files:\", path)"
      ],
      "metadata": {
        "colab": {
          "base_uri": "https://localhost:8080/"
        },
        "id": "5GxancsbSN_t",
        "outputId": "da798a3d-60a3-4195-ab69-b0387100a5f8"
      },
      "execution_count": null,
      "outputs": [
        {
          "output_type": "stream",
          "name": "stdout",
          "text": [
            "Path to dataset files: /kaggle/input/tree-species-identification-dataset\n"
          ]
        }
      ]
    },
    {
      "cell_type": "code",
      "source": [
        "import shutil\n",
        "import os\n",
        "\n",
        "# Define the source path (where the dataset is downloaded)\n",
        "source_path = '/content/drive/MyDrive/Tree_Species_Dataset'\n",
        "# Define the destination path (replace with your desired path)\n",
        "destination_path = '/content/tree-species-dataset'\n",
        "\n",
        "# Check if source exists\n",
        "if not os.path.exists(source_path):\n",
        "    print(f\"Source directory not found: {source_path}\")\n",
        "else:\n",
        "    # If destination exists, rename or remove it to avoid error\n",
        "    if os.path.exists(destination_path):\n",
        "        print(f\"Destination already exists: {destination_path}\")\n",
        "    else:\n",
        "        try:\n",
        "            shutil.move(source_path, destination_path)\n",
        "            print(f\"Dataset moved successfully from {source_path} to {destination_path}\")\n",
        "        except shutil.Error as e:\n",
        "            print(f\"Error moving dataset: {e}\")\n"
      ],
      "metadata": {
        "colab": {
          "base_uri": "https://localhost:8080/"
        },
        "id": "0s6MHiFsSdH8",
        "outputId": "9c7d57ac-7bea-4155-c2ba-cd8597623d3d"
      },
      "execution_count": null,
      "outputs": [
        {
          "output_type": "stream",
          "name": "stdout",
          "text": [
            "Dataset moved successfully from /content/drive/MyDrive/Tree_Species_Dataset to /content/tree-species-dataset\n"
          ]
        }
      ]
    },
    {
      "cell_type": "code",
      "source": [
        "from collections import defaultdict\n",
        "import cv2\n",
        "import numpy as np\n",
        "import matplotlib.pyplot as plt"
      ],
      "metadata": {
        "id": "RfDkeJZs0AKc"
      },
      "execution_count": 1,
      "outputs": []
    },
    {
      "cell_type": "code",
      "source": [
        "data_dir = '/content/drive/MyDrive/Dataset/Tree_Species_Dataset'"
      ],
      "metadata": {
        "id": "oz9uN0Yd0Elq"
      },
      "execution_count": null,
      "outputs": []
    }
  ]
}