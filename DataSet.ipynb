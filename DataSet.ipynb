{
  "nbformat": 4,
  "nbformat_minor": 0,
  "metadata": {
    "colab": {
      "provenance": [],
      "authorship_tag": "ABX9TyNCbStjzfiAavRAJGJPxAhX",
      "include_colab_link": true
    },
    "kernelspec": {
      "name": "python3",
      "display_name": "Python 3"
    },
    "language_info": {
      "name": "python"
    }
  },
  "cells": [
    {
      "cell_type": "markdown",
      "metadata": {
        "id": "view-in-github",
        "colab_type": "text"
      },
      "source": [
        "<a href=\"https://colab.research.google.com/github/Karthik35k/DataSet/blob/main/DataSet.ipynb\" target=\"_parent\"><img src=\"https://colab.research.google.com/assets/colab-badge.svg\" alt=\"Open In Colab\"/></a>"
      ]
    },
    {
      "cell_type": "code",
      "execution_count": 1,
      "metadata": {
        "colab": {
          "base_uri": "https://localhost:8080/"
        },
        "id": "mFgosIQBaEPH",
        "outputId": "755726ff-1b48-4a4f-e86e-8b68c82c3a90"
      },
      "outputs": [
        {
          "output_type": "stream",
          "name": "stdout",
          "text": [
            "Mounted at /content/drive\n"
          ]
        }
      ],
      "source": [
        "from google.colab import drive\n",
        "drive.mount('/content/drive')"
      ]
    },
    {
      "cell_type": "code",
      "source": [
        "import kagglehub\n",
        "\n",
        "# Download latest version\n",
        "path = kagglehub.dataset_download(\"viditgandhi/tree-species-identification-dataset\")\n",
        "\n",
        "print(\"Path to dataset files:\", path)"
      ],
      "metadata": {
        "id": "5GxancsbSN_t",
        "outputId": "da798a3d-60a3-4195-ab69-b0387100a5f8",
        "colab": {
          "base_uri": "https://localhost:8080/"
        }
      },
      "execution_count": 2,
      "outputs": [
        {
          "output_type": "stream",
          "name": "stdout",
          "text": [
            "Path to dataset files: /kaggle/input/tree-species-identification-dataset\n"
          ]
        }
      ]
    },
    {
      "cell_type": "code",
      "source": [
        "import shutil\n",
        "\n",
        "# Define the source path (where the dataset is downloaded)\n",
        "source_path = '/root/.cache/kagglehub/datasets/viditgandhi/tree-species-identification-dataset/versions/1'\n",
        "\n",
        "# Define the destination path (replace with your desired path)\n",
        "destination_path = '/content/tree-species-dataset'\n",
        "\n",
        "# Use shutil.move() to move the directory\n",
        "try:\n",
        "    shutil.move(source_path, destination_path)\n",
        "    print(f\"Dataset moved successfully from {source_path} to {destination_path}\")\n",
        "except shutil.Error as e:\n",
        "    print(f\"Error moving dataset: {e}\")\n",
        "except FileNotFoundError:\n",
        "    print(f\"Source directory not found: {source_path}\")"
      ],
      "metadata": {
        "id": "0s6MHiFsSdH8",
        "outputId": "f43b13ce-2567-4cdd-e395-be9af69edf9e",
        "colab": {
          "base_uri": "https://localhost:8080/"
        }
      },
      "execution_count": 4,
      "outputs": [
        {
          "output_type": "stream",
          "name": "stdout",
          "text": [
            "Source directory not found: /root/.cache/kagglehub/datasets/viditgandhi/tree-species-identification-dataset/versions/1\n"
          ]
        }
      ]
    }
  ]
}